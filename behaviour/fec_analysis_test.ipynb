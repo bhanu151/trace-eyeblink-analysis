{
 "cells": [
  {
   "cell_type": "markdown",
   "metadata": {
    "jukit_cell_id": "6PFQeCidAK"
   },
   "source": [
    "# FEC Analysis"
   ]
  },
  {
   "cell_type": "markdown",
   "metadata": {
    "jukit_cell_id": "YHnwwDHxhz"
   },
   "source": [
    "## Objectives\n",
    "1. Identify a suitable threshold for binarizing\n",
    "2. Identify a suitable threshold for Conditioned Response"
   ]
  },
  {
   "cell_type": "markdown",
   "metadata": {
    "jukit_cell_id": "MhWn6Lo5ow"
   },
   "source": [
    "## Approach for identifying threshold\n",
    "1. Blur ROI using 3x3 average filters to avoid salt and pepper like single pixel noise\n",
    "2. Plot histogram of the intensities of the blurred roi\n",
    "3. Use a gaussian filter to smoothen over the histogram\n",
    "4. Identify 'inflection_points' as the intensity at whicch the curve is about to switch from negative slope to positive slope\n",
    "5. Steps 1-4 are repeated for all frames in the 'PRE' period. The median inflection point is chosen as the threshold for binarizing all frames within a trial"
   ]
  },
  {
   "cell_type": "code",
   "execution_count": null,
   "metadata": {
    "jukit_cell_id": "o3GAdU4fXg"
   },
   "outputs": [],
   "source": [
    "import numpy as np\n",
    "import matplotlib.pyplot as plt\n",
    "from skimage import io\n",
    "import cv2\n",
    "from scipy.ndimage import gaussian_filter1d\n",
    "import math\n",
    "import glob"
   ]
  },
  {
   "cell_type": "code",
   "execution_count": null,
   "metadata": {
    "jukit_cell_id": "veMaFAdTMt"
   },
   "outputs": [],
   "source": [
    "path = \"/home1/bhalla/hrishikeshn/BehaviorRawData/G405/G405_An1_11\"\n",
    "file_name = path + \"/\" + \"031.tiff\"\n",
    "roi = (375, 95, 405, 245)\n",
    "sigma = 0.75  # standard deviation of gaussian filter\n",
    "n_bins = 50  # number of bins for intensity histogram"
   ]
  },
  {
   "cell_type": "code",
   "execution_count": null,
   "metadata": {
    "jukit_cell_id": "WBWhvMEnD4"
   },
   "outputs": [],
   "source": [
    "def get_threshold(frame_stack, roi):\n",
    "    x_min, y_min, x_max, y_max = roi\n",
    "    inflection_points = []\n",
    "\n",
    "    for f, frame in enumerate(frame_stack):\n",
    "        bin_line = frame[0, :]\n",
    "        data_line = (\"\".join(([chr(x) for x in bin_line]))).rstrip()\n",
    "        tokens = data_line.split(\",\")\n",
    "\n",
    "        if tokens[10] == \"PRE_\":\n",
    "            eye_roi = frame[y_min:y_max, x_min:x_max]\n",
    "            blurred_roi = cv2.blur(eye_roi, (3, 3))\n",
    "            bins = np.linspace(0, 255, n_bins)\n",
    "            counts, bins = np.histogram(blurred_roi, bins=bins, density=True)\n",
    "            smoothed_counts = gaussian_filter1d(counts, sigma)\n",
    "            smoothed_d1 = np.gradient(smoothed_counts)\n",
    "            inflection_point_indices = np.where(np.diff(np.sign(smoothed_d1)) > 1.5)[0]\n",
    "            if np.any(inflection_point_indices):\n",
    "                inflection_points.append(bins[inflection_point_indices[0]])\n",
    "            else:\n",
    "                inflection_points.append(np.nan)\n",
    "\n",
    "        else:\n",
    "            break\n",
    "\n",
    "    threshold = np.nanmedian(inflection_points)\n",
    "    if math.isnan(threshold):\n",
    "        print(\"Obtained Nan value for binarizing threshold\")\n",
    "    return threshold"
   ]
  },
  {
   "cell_type": "code",
   "execution_count": null,
   "metadata": {
    "jukit_cell_id": "fkdsaampY7"
   },
   "outputs": [],
   "source": [
    "def plot_images(frame_stack, roi, threshold):\n",
    "    x_min, y_min, x_max, y_max = roi\n",
    "\n",
    "    for f, frame in enumerate(frame_stack):\n",
    "        if f % 50 == 0:\n",
    "            eye_roi = frame[y_min:y_max, x_min:x_max]\n",
    "            blurred_roi = cv2.blur(eye_roi, (3, 3))\n",
    "            binarized_roi = blurred_roi > threshold\n",
    "\n",
    "            bins = np.linspace(0, 255, n_bins)\n",
    "            counts, bins = np.histogram(blurred_roi, bins=bins, density=True)\n",
    "            smoothed_counts = gaussian_filter1d(counts, sigma)\n",
    "            cum_counts = np.cumsum(counts) * (bins[1] - bins[0])\n",
    "\n",
    "            fig = plt.figure(figsize=(7, 6))\n",
    "            plt.suptitle(f\"frame #{f}\")\n",
    "            spec = fig.add_gridspec(2, 6)\n",
    "\n",
    "            axa = fig.add_subplot(spec[0, 0:2])\n",
    "            axa.imshow(eye_roi, cmap=\"gray\")\n",
    "            axa.set_title(\"original\")\n",
    "\n",
    "            axb = fig.add_subplot(spec[0, 2:4])\n",
    "            axb.imshow(blurred_roi, cmap=\"gray\")\n",
    "            axb.set_title(\"blurred\")\n",
    "\n",
    "            axc = fig.add_subplot(spec[0, 4:6])\n",
    "            axc.imshow(binarized_roi, cmap=\"gray\")\n",
    "            axc.set_title(\"binarized\")\n",
    "\n",
    "            axd = fig.add_subplot(spec[1, 0:3])\n",
    "            axd.hist(blurred_roi, bins=bins, density=True)\n",
    "            axd.plot(bins[1:], smoothed_counts, label=\"gaussian smoothening\")\n",
    "            axd.axvline(threshold, color=\"r\", label=\"threshold\")\n",
    "            axd.set_xlabel(\"intensity\")\n",
    "            axd.set_ylabel(\"probability\")\n",
    "            axd.set_title(\"blurred\")\n",
    "            axd.legend()\n",
    "\n",
    "            axe = fig.add_subplot(spec[1, 3:6])\n",
    "            axe.plot(bins[1:], cum_counts)\n",
    "            axe.axvline(threshold, color=\"r\", label=\"threshold\")\n",
    "            axe.set_xlabel(\"intensity\")\n",
    "            axe.set_ylabel(\"cumulative probability\")\n",
    "            axe.set_title(\"blurred\")\n",
    "            axe.legend()"
   ]
  },
  {
   "cell_type": "code",
   "execution_count": null,
   "metadata": {
    "jukit_cell_id": "aO2ulcDdKz"
   },
   "outputs": [],
   "source": [
    "frame_stack = io.imread(file_name)\n",
    "threshold = get_threshold(frame_stack, roi)\n",
    "plot_images(frame_stack, roi, threshold)"
   ]
  },
  {
   "cell_type": "markdown",
   "metadata": {
    "jukit_cell_id": "qlarqFwcX3"
   },
   "source": [
    "## FEC Logic\n",
    "1. eye_openness = #black pixels in binarized ROI\n",
    "2. Identify max_eye_openness from the frame with the max number of black pixels the PRE period\n",
    "3. FEC = 1 - (#eye_openness/ max_eye_openness)"
   ]
  },
  {
   "cell_type": "code",
   "execution_count": null,
   "metadata": {
    "jukit_cell_id": "qX5y2h27Do"
   },
   "outputs": [],
   "source": [
    "def get_max_eye_openness(frame_stack, roi, threshold):\n",
    "    x_min, y_min, x_max, y_max = roi\n",
    "    max_eye_openness = 0\n",
    "\n",
    "    for f, frame in enumerate(frame_stack):\n",
    "        bin_line = frame[0, :]\n",
    "        data_line = (\"\".join(([chr(x) for x in bin_line]))).rstrip()\n",
    "        tokens = data_line.split(\",\")\n",
    "\n",
    "        if tokens[10] == \"PRE_\":\n",
    "            eye_roi = frame[y_min:y_max, x_min:x_max]\n",
    "            blurred_roi = cv2.blur(eye_roi, (3, 3))\n",
    "            binarized_roi = blurred_roi > threshold\n",
    "            max_eye_openness = max(max_eye_openness, np.sum(~binarized_roi))\n",
    "\n",
    "    return max_eye_openness"
   ]
  },
  {
   "cell_type": "code",
   "execution_count": null,
   "metadata": {
    "jukit_cell_id": "mnAPO36zLj"
   },
   "outputs": [],
   "source": [
    "def plot_fec(path, roi):\n",
    "    x_min, y_min, x_max, y_max = roi\n",
    "\n",
    "    fig = plt.figure(figsize=(7, 3))\n",
    "    spec = fig.add_gridspec(1, 2)\n",
    "    axa = fig.add_subplot(spec[0, 0])\n",
    "    axb = fig.add_subplot(spec[0, 1])\n",
    "\n",
    "    fec_traces = []\n",
    "    cs_frames = []\n",
    "    us_frames = []\n",
    "    probe_trials = []\n",
    "\n",
    "    for t, trial_video in enumerate(sorted(glob.glob(path + \"/*.ti*\"))):\n",
    "        # if t == 23:\n",
    "        #     break\n",
    "\n",
    "        frame_stack = io.imread(trial_video)\n",
    "\n",
    "        fec = np.zeros(frame_stack.shape[0])\n",
    "\n",
    "        threshold = get_threshold(frame_stack, roi)\n",
    "        max_eye_openness = get_max_eye_openness(frame_stack, roi, threshold)\n",
    "        prev_token = \"PRE_\"\n",
    "        cs_start = np.NaN\n",
    "        cs_end = np.NaN\n",
    "        us_start = np.NaN\n",
    "        us_end = np.NaN\n",
    "        probe_flag = False\n",
    "\n",
    "        for f, frame in enumerate(frame_stack):\n",
    "            bin_line = frame[0, :]\n",
    "            data_line = (\"\".join(([chr(x) for x in bin_line]))).rstrip()\n",
    "            curr_token = data_line.split(\",\")[10]\n",
    "            if prev_token == \"PRE_\" and curr_token == \"CS+\":\n",
    "                cs_start = f\n",
    "            if prev_token == \"CS+\" and curr_token == \"TRAC\":\n",
    "                cs_end = f - 1\n",
    "            elif prev_token == \"TRAC\" and (\n",
    "                curr_token == \"PUFF\" or curr_token == \"PROB\"\n",
    "            ):\n",
    "                us_start = f\n",
    "            elif (\n",
    "                prev_token == \"PUFF\" or prev_token == \"PROB\"\n",
    "            ) and curr_token == \"POST\":\n",
    "                us_end = f - 1\n",
    "            if curr_token == \"PROB\":\n",
    "                probe_flag = True\n",
    "\n",
    "            eye_roi = frame[y_min:y_max, x_min:x_max]\n",
    "            blurred_roi = cv2.blur(eye_roi, (3, 3))\n",
    "            binarized_roi = blurred_roi > threshold\n",
    "            fec[f] = 1 - (np.sum(~binarized_roi) / max_eye_openness)\n",
    "\n",
    "            prev_token = curr_token\n",
    "\n",
    "        fec_traces.append(fec)\n",
    "        cs_frames.append([cs_start, cs_end])\n",
    "        us_frames.append([us_start, us_end])\n",
    "        probe_trials.append(probe_flag)\n",
    "\n",
    "        # axa.plot(np.arange(len(fec)), fec, c=\"b\", alpha=0.5)\n",
    "        # if ~math.isnan(cs_start_frame):\n",
    "        #     axa.axvline(cs_start_frame, c=\"g\")\n",
    "        # if ~math.isnan(us_start_frame):\n",
    "        #     axa.axvline(us_start_frame, c=\"r\")\n",
    "\n",
    "    cs_frames = np.array(cs_frames)\n",
    "    us_frames = np.array(us_frames)\n",
    "    probe_trials = np.array(probe_trials)\n",
    "\n",
    "    pad_left = np.max(cs_frames[:, 0]) - cs_frames[:, 0]\n",
    "    right_tails = [\n",
    "        len(trace) - cs_frames[i, 0] - 1 for i, trace in enumerate(fec_traces)\n",
    "    ]\n",
    "    pad_right = np.max(right_tails) - right_tails\n",
    "    fec_traces_padded = np.array(\n",
    "        [\n",
    "            [0] * pad_left[i] + list(trace) + [0] * pad_right[i]\n",
    "            for i, trace in enumerate(fec_traces)\n",
    "        ]\n",
    "    )\n",
    "\n",
    "    for t, trace in enumerate(fec_traces_padded):\n",
    "        if probe_trials[t]:\n",
    "            axa.plot(np.arange(len(trace)), trace, color=\"r\", alpha=0.4)\n",
    "        else:\n",
    "            axa.plot(np.arange(len(trace)), trace, color=\"b\", alpha=0.4)\n",
    "        axa.axvspan(\n",
    "            cs_frames[t, 0] + pad_left[t],\n",
    "            cs_frames[t, 1] + pad_left[t],\n",
    "            color=\"g\",\n",
    "            alpha=0.4,\n",
    "        )\n",
    "        axb.axvspan(\n",
    "            cs_frames[t, 0] + pad_left[t],\n",
    "            cs_frames[t, 1] + pad_left[t],\n",
    "            color=\"g\",\n",
    "            alpha=0.4,\n",
    "        )\n",
    "        axa.axvspan(\n",
    "            us_frames[t, 0] + pad_left[t],\n",
    "            us_frames[t, 1] + pad_left[t],\n",
    "            color=\"y\",\n",
    "            alpha=0.4,\n",
    "        )\n",
    "        axb.axvspan(\n",
    "            us_frames[t, 0] + pad_left[t],\n",
    "            us_frames[t, 1] + pad_left[t],\n",
    "            color=\"y\",\n",
    "            alpha=0.4,\n",
    "        )\n",
    "\n",
    "    mean_trace_us = np.mean(fec_traces_padded[~probe_trials], axis=0)\n",
    "    std_trace_us = np.std(fec_traces_padded[~probe_trials], axis=0)\n",
    "    axb.plot(np.arange(len(mean_trace_us)), mean_trace_us, color=\"b\", label=\"US+ mean\")\n",
    "    axb.fill_between(\n",
    "        np.arange(len(mean_trace_us)),\n",
    "        mean_trace_us - std_trace_us,\n",
    "        mean_trace_us + std_trace_us,\n",
    "        color=\"b\",\n",
    "        alpha=0.4,\n",
    "    )\n",
    "    mean_trace_probe = np.mean(fec_traces_padded[probe_trials], axis=0)\n",
    "    std_trace_probe = np.std(fec_traces_padded[probe_trials], axis=0)\n",
    "    axb.plot(\n",
    "        np.arange(len(mean_trace_probe)),\n",
    "        mean_trace_probe,\n",
    "        color=\"r\",\n",
    "        label=\"probe mean\",\n",
    "    )\n",
    "    axb.fill_between(\n",
    "        np.arange(len(mean_trace_probe)),\n",
    "        mean_trace_probe - std_trace_probe,\n",
    "        mean_trace_probe + std_trace_probe,\n",
    "        color=\"r\",\n",
    "        alpha=0.4,\n",
    "    )\n",
    "    axa.set_xlabel(\"frame #\")\n",
    "    axa.set_ylabel(\"FEC\")\n",
    "    axb.set_xlabel(\"frame #\")\n",
    "    axb.legend()\n",
    "    plt.suptitle(path.split(\"/\")[-1])"
   ]
  },
  {
   "cell_type": "code",
   "execution_count": null,
   "metadata": {
    "jukit_cell_id": "blvmWNiRhN"
   },
   "outputs": [],
   "source": [
    "plot_fec(path, roi)"
   ]
  },
  {
   "cell_type": "code",
   "execution_count": null,
   "metadata": {
    "jukit_cell_id": "70fCNQzwZX"
   },
   "outputs": [],
   "source": [
    "path = \"/home1/bhalla/hrishikeshn/BehaviorRawData/G405/G405_Hr7_25\"\n",
    "roi = (385, 105, 415, 255)\n",
    "plot_fec(path, roi)"
   ]
  },
  {
   "cell_type": "markdown",
   "metadata": {
    "jukit_cell_id": "k3wr9CxmHZ"
   },
   "source": [
    "## What next?\n",
    "1. Look at Conditioned Responses\n",
    "2. Test out the negated logic for white-eyed mice"
   ]
  }
 ],
 "metadata": {
  "anaconda-cloud": {},
  "kernelspec": {
   "display_name": "Python 3 (ipykernel)",
   "language": "python",
   "name": "python3"
  },
  "language_info": {
   "codemirror_mode": {
    "name": "ipython",
    "version": 3
   },
   "file_extension": ".py",
   "mimetype": "text/x-python",
   "name": "python",
   "nbconvert_exporter": "python",
   "pygments_lexer": "ipython3",
   "version": "3.10.6"
  }
 },
 "nbformat": 4,
 "nbformat_minor": 4
}
