{
 "cells": [
  {
   "cell_type": "markdown",
   "metadata": {
    "jukit_cell_id": "81ZS7zi4Gy"
   },
   "source": [
    "# FEC Analysis"
   ]
  },
  {
   "cell_type": "markdown",
   "metadata": {
    "jukit_cell_id": "YHnwwDHxhz"
   },
   "source": [
    "## Objectives\n",
    "1. Identify a suitable threshold for binarizing\n",
    "2. Identify a suitable threshold for Conditioned Response"
   ]
  },
  {
   "cell_type": "markdown",
   "metadata": {
    "jukit_cell_id": "MhWn6Lo5ow"
   },
   "source": [
    "## Approach for identifying threshold\n",
    "1. Blur ROI using 3x3 average filters to avoid salt and pepper like single pixel noise\n",
    "2. Plot histogram of the intensities of the blurred roi\n",
    "3. Use a gaussian filter to smoothen over the histogram\n",
    "4. Identify 'inflection_points' as the intensity at whicch the curve is about to switch from negative slope to positive slope\n",
    "5. Steps 1-4 are repeated for all frames in the 'PRE' period. The median inflection point is chosen as the threshold for binarizing all frames within a trial"
   ]
  },
  {
   "cell_type": "code",
   "execution_count": null,
   "metadata": {
    "jukit_cell_id": "o3GAdU4fXg"
   },
   "outputs": [],
   "source": [
    "import numpy as np\n",
    "import matplotlib.pyplot as plt\n",
    "from skimage import io\n",
    "import cv2\n",
    "from scipy.ndimage import gaussian_filter1d\n",
    "import math"
   ]
  },
  {
   "cell_type": "code",
   "execution_count": null,
   "metadata": {
    "jukit_cell_id": "veMaFAdTMt"
   },
   "outputs": [],
   "source": [
    "path = \"../../hrishikeshn/BehaviorRawData/G405/G405_An1_11/\"\n",
    "file_name = path + \"001.tiff\"\n",
    "roi = (375, 95, 405, 245)\n",
    "sigma = 0.75  # standard deviation of gaussian filter\n",
    "n_bins = 50  # number of bins for intensity histogram"
   ]
  },
  {
   "cell_type": "code",
   "execution_count": null,
   "metadata": {
    "jukit_cell_id": "N8PRfROs7O"
   },
   "outputs": [],
   "source": [
    "def get_threshold(frame_stack, roi):\n",
    "    x_min, y_min, x_max, y_max = roi\n",
    "    inflection_points = []\n",
    "\n",
    "    for f, frame in enumerate(frame_stack):\n",
    "        bin_line = frame[0, :]\n",
    "        data_line = (\"\".join(([chr(x) for x in bin_line]))).rstrip()\n",
    "        tokens = data_line.split(\",\")\n",
    "\n",
    "        if tokens[10] == \"PRE_\":\n",
    "            eye_roi = frame[y_min:y_max, x_min:x_max]\n",
    "            blurred_roi = cv2.blur(eye_roi, (3, 3))\n",
    "            bins = np.linspace(0, 255, n_bins)\n",
    "            counts, bins = np.histogram(blurred_roi, bins=bins, density=True)\n",
    "            smoothed_counts = gaussian_filter1d(counts, sigma)\n",
    "            smoothed_d1 = np.gradient(smoothed_counts)\n",
    "            inflection_point_indices = np.where(np.diff(np.sign(smoothed_d1)) > 1.5)[0]\n",
    "            if np.any(inflection_point_indices):\n",
    "                inflection_points.append(bins[inflection_point_indices[0]])\n",
    "            else:\n",
    "                inflection_points.append(np.nan)\n",
    "\n",
    "        else:\n",
    "            break\n",
    "\n",
    "    threshold = np.nanmedian(inflection_points)\n",
    "    print(threshold)\n",
    "    if math.isnan(threshold):\n",
    "        print(\"Obtained Nan value for binarizing threshold\")\n",
    "    return threshold"
   ]
  },
  {
   "cell_type": "code",
   "execution_count": null,
   "metadata": {
    "jukit_cell_id": "fkdsaampY7"
   },
   "outputs": [],
   "source": [
    "def plot_images(frame_stack, roi, threshold):\n",
    "    x_min, y_min, x_max, y_max = roi\n",
    "\n",
    "    for f, frame in enumerate(frame_stack):\n",
    "        if f%50 == 0:\n",
    "            eye_roi = frame[y_min:y_max, x_min:x_max]\n",
    "            blurred_roi = cv2.blur(eye_roi, (3, 3))\n",
    "            binarized_roi = blurred_roi > threshold\n",
    "\n",
    "            bins = np.linspace(0, 255, n_bins)\n",
    "            counts, bins = np.histogram(blurred_roi, bins=bins, density=True)\n",
    "            smoothed_counts = gaussian_filter1d(counts, sigma)\n",
    "            cum_counts = np.cumsum(counts) * (bins[1] - bins[0])\n",
    "\n",
    "            fig = plt.figure(figsize=(7, 6))\n",
    "            plt.suptitle(f\"frame #{f}\")\n",
    "            spec = fig.add_gridspec(2, 6)\n",
    "\n",
    "            axa = fig.add_subplot(spec[0, 0:2])\n",
    "            axa.imshow(eye_roi, cmap=\"gray\")\n",
    "            axa.set_title(\"original\")\n",
    "\n",
    "            axb = fig.add_subplot(spec[0, 2:4])\n",
    "            axb.imshow(blurred_roi, cmap=\"gray\")\n",
    "            axb.set_title(\"blurred\")\n",
    "\n",
    "            axc = fig.add_subplot(spec[0, 4:6])\n",
    "            axc.imshow(binarized_roi, cmap=\"gray\")\n",
    "            axc.set_title(\"binarized\")\n",
    "\n",
    "            axd = fig.add_subplot(spec[1, 0:3])\n",
    "            axd.hist(blurred_roi, bins=bins, density=True)\n",
    "            axd.plot(bins[1:], smoothed_counts, label=\"gaussian smoothening\")\n",
    "            axd.axvline(threshold, color=\"r\", label=\"threshold\")\n",
    "            axd.set_xlabel(\"intensity\")\n",
    "            axd.set_ylabel(\"probability\")\n",
    "            axd.set_title(\"blurred\")\n",
    "            axd.legend()\n",
    "\n",
    "            axe = fig.add_subplot(spec[1, 3:6])\n",
    "            axe.plot(bins[1:], cum_counts)\n",
    "            axe.axvline(threshold, color=\"r\", label=\"threshold\")\n",
    "            axe.set_xlabel(\"intensity\")\n",
    "            axe.set_ylabel(\"cumulative probability\")\n",
    "            axe.set_title(\"blurred\")\n",
    "            axe.legend()"
   ]
  },
  {
   "cell_type": "code",
   "execution_count": null,
   "metadata": {
    "jukit_cell_id": "aO2ulcDdKz"
   },
   "outputs": [],
   "source": [
    "frame_stack = io.imread(file_name)\n",
    "threshold = get_threshold(frame_stack, roi)\n",
    "plot_images(frame_stack, roi, threshold)"
   ]
  },
  {
   "cell_type": "markdown",
   "metadata": {
    "jukit_cell_id": "k3wr9CxmHZ"
   },
   "source": [
    "## What next?\n",
    "1. Look at Conditioned Responses\n",
    "2. Test out the negated logic for white-eyed mice"
   ]
  },
  {
   "cell_type": "code",
   "execution_count": null,
   "metadata": {
    "jukit_cell_id": "aCx7z54QTu"
   },
   "outputs": [],
   "source": []
  }
 ],
 "metadata": {
  "anaconda-cloud": {},
  "kernelspec": {
   "display_name": "Python 3",
   "language": "python",
   "name": "python3"
  },
  "language_info": {
   "codemirror_mode": {
    "name": "ipython",
    "version": 3
   },
   "file_extension": ".py",
   "mimetype": "text/x-python",
   "name": "python",
   "nbconvert_exporter": "python",
   "pygments_lexer": "ipython3",
   "version": "3.8.10"
  }
 },
 "nbformat": 4,
 "nbformat_minor": 4
}
